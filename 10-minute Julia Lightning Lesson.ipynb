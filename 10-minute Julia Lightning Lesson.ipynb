{
 "cells": [
  {
   "cell_type": "markdown",
   "metadata": {},
   "source": [
    "# Types, methods, and multiple dispatch in Julia\n",
    "*A ten-minute lesson by Jonas Kersulis*\n",
    "\n",
    "*October 7, 2015*\n",
    "\n",
    "\"[Julia programs are organized around multiple dispatch][1]\"\n",
    "\n",
    "Though you don't need to know much about Julia's multiple dispatch to use the language, there is a great deal of power and flexibility here. The `::` operator (\"is an instance of\") may be used to assert object types:\n",
    "\n",
    "[1]: http://julialang.org/"
   ]
  },
  {
   "cell_type": "code",
   "execution_count": null,
   "metadata": {
    "collapsed": true
   },
   "outputs": [],
   "source": [
    "#(1+2)::FloatingPoint\n",
    "(1+2)::Int"
   ]
  },
  {
   "cell_type": "markdown",
   "metadata": {},
   "source": [
    "In addition to concrete (and familiar) `Float` and `Int` types, Julia has [abstract types][1]:\n",
    "\n",
    "[1]: http://docs.julialang.org/en/release-0.3/manual/types/#abstract-types"
   ]
  },
  {
   "cell_type": "code",
   "execution_count": null,
   "metadata": {
    "collapsed": true
   },
   "outputs": [],
   "source": [
    "(1 + 1im)::Complex\n",
    "#1::Real"
   ]
  },
  {
   "cell_type": "code",
   "execution_count": null,
   "metadata": {
    "collapsed": true
   },
   "outputs": [],
   "source": [
    "(1 + 1im)::Complex\n",
    "1::Real"
   ]
  },
  {
   "cell_type": "markdown",
   "metadata": {},
   "source": [
    "The most important implication of Julia's type system is **multiple dispatch**:  functions take all arguments into consideration when determining which method to use. From [Wikipedia][1]:\n",
    "\n",
    "[1]: https://en.wikipedia.org/wiki/Dynamic_dispatch#Single_and_multiple_dispatch"
   ]
  },
  {
   "cell_type": "code",
   "execution_count": null,
   "metadata": {
    "collapsed": false,
    "scrolled": false
   },
   "outputs": [],
   "source": [
    "url = \"https://en.wikipedia.org/wiki/Dynamic_dispatch#Single_and_multiple_dispatch\"\n",
    "s = string(\"<iframe height='450' id='multDis' seamless='seamless' src='\",\n",
    "url,\"' width='550' scrolling='no'></iframe>\")\n",
    "display(\"text/html\", s)"
   ]
  },
  {
   "cell_type": "markdown",
   "metadata": {},
   "source": [
    "Multiple dispatch means there can be arbitrarily many methods associated with a single function name. Julia's parser determines which method to call based on the types of input arguments.\n",
    "\n",
    "You already know how to find function documentation with `?function_name`. Sometimes you also need to know what argument types a function can accept. You can see this information by running `methods(function_name)`. In the notebook, you can also press `Tab` after a function's opening parenthesis."
   ]
  },
  {
   "cell_type": "code",
   "execution_count": null,
   "metadata": {
    "collapsed": false,
    "scrolled": true
   },
   "outputs": [],
   "source": [
    "?methods"
   ]
  },
  {
   "cell_type": "code",
   "execution_count": null,
   "metadata": {
    "collapsed": false
   },
   "outputs": [],
   "source": [
    "methods(methods) # meta alert!"
   ]
  },
  {
   "cell_type": "markdown",
   "metadata": {},
   "source": [
    ">**\\[Exercise\\]**: Code reading\n",
    "\n",
    "> Pair off: partner up with a student near you.\n",
    "\n",
    "> * Student 1: Use `methods(complex)` to display all the ways one can convert real numbers to complex numbers in Julia. The links take you to Julia's source code on Github. What happens when you enter `complex(1.0,2.0)` into Julia? What are the argument types? What method runs, and what is the type of the return value? Explain to your partner. Hint: `?Complex` will tell you more about Julia's `Complex` abstract type.\n",
    "\n",
    "> * Student 2: Apply the same introspection techniques to Julia's `sqrt()` function. Show your partner how `sqrt()` works. What code is being run behind the scenes? When you run `sqrt(1 + 3im)`, what does Julia do?"
   ]
  }
 ],
 "metadata": {
  "kernelspec": {
   "display_name": "Julia 0.4.0-rc2",
   "language": "julia",
   "name": "julia-0.4"
  },
  "language_info": {
   "file_extension": ".jl",
   "mimetype": "application/julia",
   "name": "julia",
   "version": "0.4.0"
  }
 },
 "nbformat": 4,
 "nbformat_minor": 0
}
